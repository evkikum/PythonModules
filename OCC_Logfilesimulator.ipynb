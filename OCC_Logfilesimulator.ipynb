{
 "cells": [
  {
   "cell_type": "code",
   "execution_count": 1,
   "metadata": {},
   "outputs": [],
   "source": [
    "import re\n",
    "from random import randrange\n",
    "from datetime import timedelta\n",
    "from datetime import datetime\n",
    "import random\n",
    "import functools"
   ]
  },
  {
   "cell_type": "code",
   "execution_count": 2,
   "metadata": {},
   "outputs": [],
   "source": [
    "class LogGenerator:\n",
    "    def __init__(self,line, sdate, edate, date_formatter, log_date_format, replacing_string, lflag, rflag, masterlist, csvflag, csvpos,numberoflines):\n",
    "        self.log_line = line\n",
    "        self.start_date = sdate\n",
    "        self.log_date_format = log_date_format\n",
    "        self.end_date = edate\n",
    "        self.date_formatter = date_formatter\n",
    "        self.output_file = r\"C:\\Users\\evkikum\\OneDrive - Ericsson AB\\OPTUS\\DATA_Log.csv\"\n",
    "        self.replacing_strings = replacing_string\n",
    "        self.random_from_list = lflag\n",
    "        self.random_from_range = rflag\n",
    "        self.master_list = masterlist\n",
    "        self.csv_flag = csvflag\n",
    "        self.csv_positions = csvpos\n",
    "        self.number_of_lines = numberoflines\n",
    "        self.write_log_data()        \n",
    "   \n",
    "        \n",
    "    def random_value_generator(self, *args):\n",
    "        if self.random_from_range:\n",
    "            value = random.randrange(args[0],args[1])\n",
    "            return value\n",
    "        elif self.random_from_list:\n",
    "            value = random.choice(args[0])\n",
    "            return value \n",
    "        \n",
    "    def replace_and_create_new(self, logdate):\n",
    "        if not self.csv_flag:\n",
    "            line = re.sub(r'\\d{4}-\\d{2}-\\d{2}\\s\\d{2}:\\d{2}:\\d{2}', logdate, self.log_line)            \n",
    "            for each in self.replacing_strings:\n",
    "                if self.random_from_range:\n",
    "                    new_replacing_word = each[0][:-1] + str(self.random_value_generator(each[1], each[2])) + \" MS\"\n",
    "                elif self.random_from_list:\n",
    "                    new_replacing_word = each[0][:-1] + str(self.random_value_generator(self.master_list[self.replacing_strings.index(each)])) + \" MS\"\n",
    "                line = re.sub(each[0], new_replacing_word, line)\n",
    "            return line\n",
    "        else:\n",
    "            arr = self.log_line.split(',')\n",
    "            arr[self.csv_positions[0]] = logdate + \"+1100\"\n",
    "            for i in range(1, len(self.csv_positions)):\n",
    "                arr[self.csv_positions[i]] = str(self.random_value_generator(self.master_list[i-1]))\n",
    "            flist = functools.reduce(lambda x,y: x+','+y,arr)\n",
    "            return flist\n",
    "    \n",
    "    def generate_random_date(self):\n",
    "        delta = datetime.strptime(self.end_date, self.date_formatter) - datetime.strptime(self.start_date, self.date_formatter)        \n",
    "        int_delta = (delta.days * 24 * 60 * 60)        \n",
    "        random_second = randrange(int_delta)        \n",
    "        return datetime.strptime(self.start_date, self.date_formatter) + timedelta(seconds=random_second)\n",
    "    \n",
    "    def write_log_data(self):\n",
    "        file1 = open(self.output_file, 'w')\n",
    "        for x in range(0, self.number_of_lines):\n",
    "            log_date = self.generate_random_date()\n",
    "            new_date = log_date.strftime(self.log_date_format)\n",
    "            line = self.replace_and_create_new(new_date)\n",
    "            file1.writelines(line)\n",
    "            file1.write(\"\\n\")\n",
    "        file1.close()\n",
    "            "
   ]
  },
  {
   "cell_type": "code",
   "execution_count": 3,
   "metadata": {},
   "outputs": [],
   "source": [
    "def scenario_range_csv():\n",
    "    print(\"Start of scenario_range_csv():\")\n",
    "    csv_line = '''614359568772019112715231133:-:2,2001,20191127152311+1100,22RROCC3,8.32251@3gpp.org,Ericsson_OCS_V1_0.0.0.10.32251@3gpp.org,33:-:2,83FA5CDB,37,0,,61B2A6DD,32327272646D67312E646D672E6D6E633030322E6D63633530352E336770706E6574776F726B2E6F7267,33,0,,,100265,,,,20191203095100+1100,20191203080100+1100,0,0,61435956877,1095,0,29.950000,29.950000,,1,,,,,,2,0,100352,0,1,0.000000,0.000000,0.000000,,,20200103,,,,,,,1,,,,,,0,0.000000,,0.000000,0,,0,ProductID_1@ProductName_1@SPID_1@TZ_1,100095@Optus Prepaid Daily 3G@100@Australia/Sydney,,163,1018880,6863872,100352,unit,,Call_Type@RANGE_SET_ID@Rating_Type@RANGE_ID@location-id@Bearer_Cap@V-APN@CR31_Active@TZ@Threshold,1@201@Normal@1@0@5@INTERNETBROWSING@1@NSW@1443906976768,,,,,,,Australia/Sydney,61435956877,INTERNETBROWSING,,50502,,7E1A,,yesinternet,F091,,3532860743219024,210.49.125.82,1639098077,,'''\n",
    "    formatter = '%m/%d/%Y %I:%M %p'\n",
    "    log_start_date = '07/26/2020 5:30 AM'\n",
    "    log_end_date = '07/29/2020 5:30 AM'\n",
    "    log_date_format = '%Y%m%d%H%M%S'\n",
    "    host=[\"OCC1\", \"OCC2\"]\n",
    "    ## Position 10 is for servedSubscriptionID_IMSI and Position 16 is for usedServiceUnits_moneyUnit    \n",
    "    csv_positions = [21, 15, 26,3,10,16]\n",
    "    data_usage = [0,3912,100265,1209119,77432725,0,0,9916404,8165205,708284,0,1892811,135295,442855045,353076,0]\n",
    "    serviceids = [1096, 1900, 1015, 1038, 2106, 2107, 2110, 2111, 2112, 2102]\n",
    "    b_number = [61435934446,1300133098,1300300248,1300768453,131344,1800177047]\n",
    "    subscriber_id = range(999999,1000099)\n",
    "    ## Multiplying the voice_usage by 13 to convert the voice usage into dollars\n",
    "    serviceunitsindollars = data_usage * 13\n",
    "    \n",
    "    master_list = [data_usage,serviceids,host, subscriber_id, serviceunitsindollars]\n",
    "    replacing_string = ''\n",
    "    \n",
    "    LogGenerator(csv_line, log_start_date, log_end_date, formatter, log_date_format, replacing_string, True, False,\n",
    "                 master_list, True, csv_positions, 30000)\n",
    "    "
   ]
  },
  {
   "cell_type": "code",
   "execution_count": 4,
   "metadata": {
    "scrolled": false
   },
   "outputs": [
    {
     "name": "stdout",
     "output_type": "stream",
     "text": [
      "Start of scenario_range_csv():\n"
     ]
    }
   ],
   "source": [
    "scenario_range_csv()"
   ]
  },
  {
   "cell_type": "code",
   "execution_count": null,
   "metadata": {},
   "outputs": [],
   "source": []
  }
 ],
 "metadata": {
  "kernelspec": {
   "display_name": "Python 3",
   "language": "python",
   "name": "python3"
  },
  "language_info": {
   "codemirror_mode": {
    "name": "ipython",
    "version": 3
   },
   "file_extension": ".py",
   "mimetype": "text/x-python",
   "name": "python",
   "nbconvert_exporter": "python",
   "pygments_lexer": "ipython3",
   "version": "3.7.2"
  }
 },
 "nbformat": 4,
 "nbformat_minor": 4
}
